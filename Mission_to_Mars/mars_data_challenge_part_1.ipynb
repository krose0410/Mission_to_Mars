{
 "cells": [
  {
   "cell_type": "code",
   "execution_count": 1,
   "id": "2b89af95",
   "metadata": {},
   "outputs": [],
   "source": [
    "#Import dependencies\n",
    "import json\n",
    "from splinter import Browser\n",
    "from bs4 import BeautifulSoup as soup\n",
    "from webdriver_manager.chrome import ChromeDriverManager"
   ]
  },
  {
   "cell_type": "code",
   "execution_count": 2,
   "id": "48b1423e",
   "metadata": {},
   "outputs": [],
   "source": [
    "#Set the executable path and initialize the chrome browser in splinter\n",
    "executable_path = {'executable_path': ChromeDriverManager().install()}\n",
    "\n",
    "browser = Browser('chrome', **executable_path, headless=False)"
   ]
  },
  {
   "cell_type": "code",
   "execution_count": 3,
   "id": "ab45f9f9",
   "metadata": {},
   "outputs": [
    {
     "data": {
      "text/plain": [
       "True"
      ]
     },
     "execution_count": 3,
     "metadata": {},
     "output_type": "execute_result"
    }
   ],
   "source": [
    "#Visit the mars nasa news site\n",
    "url = 'https://redplanetscience.com'\n",
    "\n",
    "browser.visit(url)\n",
    "\n",
    "#Optional delay for loading the page\n",
    "browser.is_element_present_by_css('div.list_text', wait_time=1)"
   ]
  },
  {
   "cell_type": "code",
   "execution_count": 4,
   "id": "f046d57e",
   "metadata": {},
   "outputs": [],
   "source": [
    "#Set up the HTML parser\n",
    "html = browser.html\n",
    "\n",
    "news_soup = soup(html, 'html.parser')"
   ]
  },
  {
   "cell_type": "code",
   "execution_count": 5,
   "id": "3acfe94d",
   "metadata": {},
   "outputs": [],
   "source": [
    "#Get each slide element\n",
    "slide_elements = news_soup.find_all('div', class_='list_text')"
   ]
  },
  {
   "cell_type": "code",
   "execution_count": 6,
   "id": "ba759b32",
   "metadata": {},
   "outputs": [],
   "source": [
    "#Iterate through each slide to get title and preview text\n",
    "title_and_preview_list = []\n",
    "\n",
    "for slide in slide_elements:\n",
    "    #Create empty dictionary for each slide\n",
    "    title_and_preview = {'title': '', 'preview': ''}\n",
    "    \n",
    "    #Find the title and preview text and store in dictionary\n",
    "    title_and_preview['title'] = slide.find('div', class_='content_title').get_text()\n",
    "    title_and_preview['preview'] = slide.find('div', class_='article_teaser_body').get_text()\n",
    "    \n",
    "    #Store the dictionary in a list\n",
    "    title_and_preview_list.append(title_and_preview)"
   ]
  },
  {
   "cell_type": "code",
   "execution_count": 7,
   "id": "b0f689b4",
   "metadata": {},
   "outputs": [
    {
     "data": {
      "text/plain": [
       "[{'title': \"NASA's New Mars Rover Will Use X-Rays to Hunt Fossils\",\n",
       "  'preview': \"PIXL, an instrument on the end of the Perseverance rover's arm, will search for chemical fingerprints left by ancient microbes.\"},\n",
       " {'title': \"NASA's Perseverance Rover Goes Through Trials by Fire, Ice, Light and Sound\",\n",
       "  'preview': \"The agency's new Mars rover is put through a series of tests in vacuum chambers, acoustic chambers and more to get ready for the Red Planet.\"},\n",
       " {'title': \"10.9 Million Names Now Aboard NASA's Perseverance Mars Rover\",\n",
       "  'preview': \"As part of NASA's 'Send Your Name to Mars' campaign, they've been stenciled onto three microchips along with essays from NASA's 'Name the Rover' contest. Next stop: Mars.\"},\n",
       " {'title': \"NASA's Mars 2020 Rover Goes Coast-to-Coast to Prep for Launch\",\n",
       "  'preview': \"The agency's first step in returning rocks from Mars just arrived at Kennedy Space Center. The Mars 2020 team now begins readying for a launch to the Red Planet this July.\"},\n",
       " {'title': \"Celebrate Mars Reconnaissance Orbiter's Views From Above\",\n",
       "  'preview': 'Marking its 15th anniversary since launch, one of the oldest spacecraft at the Red Planet has provided glimpses of dust devils, avalanches, and more.'},\n",
       " {'title': 'The MarCO Mission Comes to an End',\n",
       "  'preview': 'The pair of briefcase-sized satellites made history when they sailed past Mars in 2019.'},\n",
       " {'title': \"NASA's Mars Perseverance Rover Gets Its Sample Handling System\",\n",
       "  'preview': 'The system will be collecting and storing Martian rock and soil. Its installation marks another milestone in the march toward the July launch period.'},\n",
       " {'title': 'Independent Review Indicates NASA Prepared for Mars Sample Return Campaign',\n",
       "  'preview': 'NASA released an independent review report Tuesday indicating the agency is well positioned for its Mars Sample Return campaign to bring pristine samples from Mars to Earth for scientific study.'},\n",
       " {'title': \"Follow NASA's Perseverance Rover in Real Time on Its Way to Mars\",\n",
       "  'preview': \"A crisply rendered web application can show you where the agency's Mars 2020 mission is right now as it makes its way to the Red Planet for a Feb. 18, 2021, landing.\"},\n",
       " {'title': 'The Man Who Wanted to Fly on Mars',\n",
       "  'preview': \"The Mars Helicopter is riding to the Red Planet this summer with NASA's Perseverance rover. The helicopter's chief engineer, Bob Balaram, shares the saga of how it came into being.\"},\n",
       " {'title': \"Three New Views of Mars' Moon Phobos\",\n",
       "  'preview': \"Taken with the infrared camera aboard NASA's Odyssey orbiter, they reveal temperature variations on the small moon as it drifts into and out of Mars’ shadow.\"},\n",
       " {'title': \"6 Things to Know About NASA's Ingenuity Mars Helicopter\",\n",
       "  'preview': 'The first helicopter attempting to fly on another planet is a marvel of engineering. Get up to speed with these key facts about its plans.'},\n",
       " {'title': 'Mars Scientists Investigate Ancient Life in Australia',\n",
       "  'preview': \"Teams with NASA's Mars 2020 and ESA's ExoMars practiced hunting for fossilized microbial life in the Australian Outback in preparation for their Red Planet missions. \"},\n",
       " {'title': \"NASA Wins 4 Webbys, 4 People's Voice Awards\",\n",
       "  'preview': 'Winners include the JPL-managed \"Send Your Name to Mars\" campaign, NASA\\'s Global Climate Change website and Solar System Interactive.'},\n",
       " {'title': 'MOXIE Could Help Future Rockets Launch Off Mars',\n",
       "  'preview': \"NASA's Perseverance rover carries a device to convert Martian air into oxygen that, if produced on a larger scale, could be used not just for breathing, but also for fuel.\"}]"
      ]
     },
     "execution_count": 7,
     "metadata": {},
     "output_type": "execute_result"
    }
   ],
   "source": [
    "title_and_preview_list"
   ]
  },
  {
   "cell_type": "code",
   "execution_count": 8,
   "id": "2b5aa81b",
   "metadata": {},
   "outputs": [],
   "source": [
    "#Convert list to JSON\n",
    "title_and_preview_json = json.dumps(title_and_preview_list)"
   ]
  },
  {
   "cell_type": "code",
   "execution_count": 9,
   "id": "5472a9f8",
   "metadata": {},
   "outputs": [],
   "source": [
    "#Export JSON to file\n",
    "with open('title_and_preview.json', 'w') as outfile:\n",
    "    json.dump(title_and_preview_json, outfile)"
   ]
  },
  {
   "cell_type": "code",
   "execution_count": null,
   "id": "ff27be9f",
   "metadata": {},
   "outputs": [],
   "source": []
  }
 ],
 "metadata": {
  "kernelspec": {
   "display_name": "Python 3.10.8 64-bit",
   "language": "python",
   "name": "python3"
  },
  "language_info": {
   "codemirror_mode": {
    "name": "ipython",
    "version": 3
   },
   "file_extension": ".py",
   "mimetype": "text/x-python",
   "name": "python",
   "nbconvert_exporter": "python",
   "pygments_lexer": "ipython3",
   "version": "3.10.8"
  },
  "vscode": {
   "interpreter": {
    "hash": "aee8b7b246df8f9039afb4144a1f6fd8d2ca17a180786b69acc140d282b71a49"
   }
  }
 },
 "nbformat": 4,
 "nbformat_minor": 5
}
